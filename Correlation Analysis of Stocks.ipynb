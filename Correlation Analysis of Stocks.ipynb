{
 "cells": [
  {
   "cell_type": "markdown",
   "metadata": {},
   "source": [
    "### Import necessary packages"
   ]
  },
  {
   "cell_type": "code",
   "execution_count": 1,
   "metadata": {},
   "outputs": [
    {
     "name": "stderr",
     "output_type": "stream",
     "text": [
      "C:\\Users\\user\\anaconda3\\lib\\site-packages\\scipy\\__init__.py:146: UserWarning: A NumPy version >=1.16.5 and <1.23.0 is required for this version of SciPy (detected version 1.23.1\n",
      "  warnings.warn(f\"A NumPy version >={np_minversion} and <{np_maxversion}\"\n"
     ]
    }
   ],
   "source": [
    "import pandas as pd\n",
    "import pandas_datareader as web\n",
    "import datetime\n",
    "import statsmodels.api as sm\n",
    "\n",
    "from IPython.core.interactiveshell import InteractiveShell\n",
    "InteractiveShell.ast_node_interactivity = 'all'"
   ]
  },
  {
   "cell_type": "markdown",
   "metadata": {},
   "source": [
    "### Functions to import price data"
   ]
  },
  {
   "cell_type": "code",
   "execution_count": 2,
   "metadata": {},
   "outputs": [],
   "source": [
    "def read_price_data(stock_symbol, start_date, end_date, interval):\n",
    "    \"\"\"Import price data from Yahoo Finance\"\"\"\n",
    "    try:\n",
    "        stock_data = web.get_data_yahoo(stock_symbol, start_date, end_date, interval=interval)\n",
    "    except:\n",
    "        return None\n",
    "\n",
    "    prices = stock_data.loc[:, \"Adj Close\"] # adjusted for stock splits and dividends\n",
    "    prices = prices.fillna(method=\"ffill\")\n",
    "\n",
    "    return prices"
   ]
  },
  {
   "cell_type": "code",
   "execution_count": 3,
   "metadata": {},
   "outputs": [],
   "source": [
    "def get_date_list(stock_symbol, start_date, end_date, interval):\n",
    "    \"\"\"Generate list of trading dates\"\"\"\n",
    "    stock_data = web.get_data_yahoo(stock_symbol, start_date, end_date, interval=interval)\n",
    "    dates = stock_data.index\n",
    "    \n",
    "    return dates"
   ]
  },
  {
   "cell_type": "markdown",
   "metadata": {},
   "source": [
    "### Generate input table for month on month comparison of a stock against S&P 500"
   ]
  },
  {
   "cell_type": "code",
   "execution_count": 4,
   "metadata": {},
   "outputs": [
    {
     "data": {
      "text/html": [
       "<div>\n",
       "<style scoped>\n",
       "    .dataframe tbody tr th:only-of-type {\n",
       "        vertical-align: middle;\n",
       "    }\n",
       "\n",
       "    .dataframe tbody tr th {\n",
       "        vertical-align: top;\n",
       "    }\n",
       "\n",
       "    .dataframe thead th {\n",
       "        text-align: right;\n",
       "    }\n",
       "</style>\n",
       "<table border=\"1\" class=\"dataframe\">\n",
       "  <thead>\n",
       "    <tr style=\"text-align: right;\">\n",
       "      <th></th>\n",
       "      <th>Return of Tesla on day t, %</th>\n",
       "      <th>Return of Tesla on day t+1, %</th>\n",
       "    </tr>\n",
       "    <tr>\n",
       "      <th>Date</th>\n",
       "      <th></th>\n",
       "      <th></th>\n",
       "    </tr>\n",
       "  </thead>\n",
       "  <tbody>\n",
       "    <tr>\n",
       "      <th>2022-09-22</th>\n",
       "      <td>288.589996</td>\n",
       "      <td>275.329987</td>\n",
       "    </tr>\n",
       "    <tr>\n",
       "      <th>2022-09-21</th>\n",
       "      <td>300.799988</td>\n",
       "      <td>288.589996</td>\n",
       "    </tr>\n",
       "    <tr>\n",
       "      <th>2022-09-20</th>\n",
       "      <td>308.730011</td>\n",
       "      <td>300.799988</td>\n",
       "    </tr>\n",
       "    <tr>\n",
       "      <th>2022-09-19</th>\n",
       "      <td>309.070007</td>\n",
       "      <td>308.730011</td>\n",
       "    </tr>\n",
       "    <tr>\n",
       "      <th>2022-09-16</th>\n",
       "      <td>303.350006</td>\n",
       "      <td>309.070007</td>\n",
       "    </tr>\n",
       "  </tbody>\n",
       "</table>\n",
       "</div>"
      ],
      "text/plain": [
       "            Return of Tesla on day t, %  Return of Tesla on day t+1, %\n",
       "Date                                                                  \n",
       "2022-09-22                   288.589996                     275.329987\n",
       "2022-09-21                   300.799988                     288.589996\n",
       "2022-09-20                   308.730011                     300.799988\n",
       "2022-09-19                   309.070007                     308.730011\n",
       "2022-09-16                   303.350006                     309.070007"
      ]
     },
     "execution_count": 4,
     "metadata": {},
     "output_type": "execute_result"
    },
    {
     "data": {
      "text/html": [
       "<div>\n",
       "<style scoped>\n",
       "    .dataframe tbody tr th:only-of-type {\n",
       "        vertical-align: middle;\n",
       "    }\n",
       "\n",
       "    .dataframe tbody tr th {\n",
       "        vertical-align: top;\n",
       "    }\n",
       "\n",
       "    .dataframe thead th {\n",
       "        text-align: right;\n",
       "    }\n",
       "</style>\n",
       "<table border=\"1\" class=\"dataframe\">\n",
       "  <thead>\n",
       "    <tr style=\"text-align: right;\">\n",
       "      <th></th>\n",
       "      <th>Return of Ford on day t, %</th>\n",
       "      <th>Return of Ford on day t+1, %</th>\n",
       "    </tr>\n",
       "    <tr>\n",
       "      <th>Date</th>\n",
       "      <th></th>\n",
       "      <th></th>\n",
       "    </tr>\n",
       "  </thead>\n",
       "  <tbody>\n",
       "    <tr>\n",
       "      <th>2022-09-22</th>\n",
       "      <td>1.31</td>\n",
       "      <td>1.29</td>\n",
       "    </tr>\n",
       "    <tr>\n",
       "      <th>2022-09-21</th>\n",
       "      <td>1.32</td>\n",
       "      <td>1.31</td>\n",
       "    </tr>\n",
       "    <tr>\n",
       "      <th>2022-09-20</th>\n",
       "      <td>1.38</td>\n",
       "      <td>1.32</td>\n",
       "    </tr>\n",
       "    <tr>\n",
       "      <th>2022-09-19</th>\n",
       "      <td>1.40</td>\n",
       "      <td>1.38</td>\n",
       "    </tr>\n",
       "    <tr>\n",
       "      <th>2022-09-16</th>\n",
       "      <td>1.34</td>\n",
       "      <td>1.40</td>\n",
       "    </tr>\n",
       "  </tbody>\n",
       "</table>\n",
       "</div>"
      ],
      "text/plain": [
       "            Return of Ford on day t, %  Return of Ford on day t+1, %\n",
       "Date                                                                \n",
       "2022-09-22                        1.31                          1.29\n",
       "2022-09-21                        1.32                          1.31\n",
       "2022-09-20                        1.38                          1.32\n",
       "2022-09-19                        1.40                          1.38\n",
       "2022-09-16                        1.34                          1.40"
      ]
     },
     "execution_count": 4,
     "metadata": {},
     "output_type": "execute_result"
    }
   ],
   "source": [
    "tesla = \"TSLA\" # <-- Please enter Stock symbol\n",
    "ford = \"FORD\" # <-- Please enter Stock symbol\n",
    "\n",
    "# Generate list of trading days\n",
    "start_date = datetime.datetime(2020, 9, 25)\n",
    "end_date = datetime.datetime(2022, 9, 25)\n",
    "interval = 'd' \n",
    "date_list = get_date_list(tesla, start_date, end_date, interval=interval)\n",
    "\n",
    "# Generate empty dataframe\n",
    "df_tesla = pd.DataFrame(columns=['Return of Tesla on day t, %', 'Return of Tesla on day t+1, %'], index=date_list)\n",
    "df_ford = pd.DataFrame(columns=['Return of Ford on day t, %', 'Return of Ford on day t+1, %'], index=date_list)\n",
    "\n",
    "# Sort dataframe based on date\n",
    "df_tesla = df_tesla.sort_index(ascending=False)  \n",
    "df_ford = df_ford.sort_index(ascending=False)\n",
    "\n",
    "# Import price series into dataframe\n",
    "try:    \n",
    "    price_series = read_price_data(tesla, start_date, end_date, interval=interval)\n",
    "    df_tesla['Return of Tesla on day t, %'] = price_series  \n",
    "    \n",
    "    price_series = read_price_data(ford, start_date, end_date, interval=interval)\n",
    "    df_ford['Return of Ford on day t, %'] = price_series  \n",
    "     \n",
    "except:\n",
    "    print('Import failed')\n",
    "\n",
    "# Fill in prices for t+1 column\n",
    "df_tesla['Return of Tesla on day t+1, %'] = df_tesla['Return of Tesla on day t, %'].shift(1)\n",
    "df_ford['Return of Ford on day t+1, %'] = df_ford['Return of Ford on day t, %'].shift(1)\n",
    "df_tesla = df_tesla.dropna()\n",
    "df_ford = df_ford.dropna()\n",
    "df_tesla.head()\n",
    "df_ford.head()"
   ]
  },
  {
   "cell_type": "markdown",
   "metadata": {},
   "source": [
    "### Calculate daily returns"
   ]
  },
  {
   "cell_type": "code",
   "execution_count": 5,
   "metadata": {},
   "outputs": [
    {
     "data": {
      "text/html": [
       "<div>\n",
       "<style scoped>\n",
       "    .dataframe tbody tr th:only-of-type {\n",
       "        vertical-align: middle;\n",
       "    }\n",
       "\n",
       "    .dataframe tbody tr th {\n",
       "        vertical-align: top;\n",
       "    }\n",
       "\n",
       "    .dataframe thead th {\n",
       "        text-align: right;\n",
       "    }\n",
       "</style>\n",
       "<table border=\"1\" class=\"dataframe\">\n",
       "  <thead>\n",
       "    <tr style=\"text-align: right;\">\n",
       "      <th></th>\n",
       "      <th>Return of Tesla on day t, %</th>\n",
       "      <th>Return of Tesla on day t+1, %</th>\n",
       "    </tr>\n",
       "    <tr>\n",
       "      <th>Date</th>\n",
       "      <th></th>\n",
       "      <th></th>\n",
       "    </tr>\n",
       "  </thead>\n",
       "  <tbody>\n",
       "    <tr>\n",
       "      <th>2022-09-22</th>\n",
       "      <td>-0.040592</td>\n",
       "      <td>-0.045948</td>\n",
       "    </tr>\n",
       "    <tr>\n",
       "      <th>2022-09-21</th>\n",
       "      <td>-0.025686</td>\n",
       "      <td>-0.040592</td>\n",
       "    </tr>\n",
       "    <tr>\n",
       "      <th>2022-09-20</th>\n",
       "      <td>-0.001100</td>\n",
       "      <td>-0.025686</td>\n",
       "    </tr>\n",
       "    <tr>\n",
       "      <th>2022-09-19</th>\n",
       "      <td>0.018856</td>\n",
       "      <td>-0.001100</td>\n",
       "    </tr>\n",
       "    <tr>\n",
       "      <th>2022-09-18</th>\n",
       "      <td>0.000000</td>\n",
       "      <td>0.000000</td>\n",
       "    </tr>\n",
       "  </tbody>\n",
       "</table>\n",
       "</div>"
      ],
      "text/plain": [
       "            Return of Tesla on day t, %  Return of Tesla on day t+1, %\n",
       "Date                                                                  \n",
       "2022-09-22                    -0.040592                      -0.045948\n",
       "2022-09-21                    -0.025686                      -0.040592\n",
       "2022-09-20                    -0.001100                      -0.025686\n",
       "2022-09-19                     0.018856                      -0.001100\n",
       "2022-09-18                     0.000000                       0.000000"
      ]
     },
     "execution_count": 5,
     "metadata": {},
     "output_type": "execute_result"
    },
    {
     "data": {
      "text/html": [
       "<div>\n",
       "<style scoped>\n",
       "    .dataframe tbody tr th:only-of-type {\n",
       "        vertical-align: middle;\n",
       "    }\n",
       "\n",
       "    .dataframe tbody tr th {\n",
       "        vertical-align: top;\n",
       "    }\n",
       "\n",
       "    .dataframe thead th {\n",
       "        text-align: right;\n",
       "    }\n",
       "</style>\n",
       "<table border=\"1\" class=\"dataframe\">\n",
       "  <thead>\n",
       "    <tr style=\"text-align: right;\">\n",
       "      <th></th>\n",
       "      <th>Return of Ford on day t, %</th>\n",
       "      <th>Return of Ford on day t+1, %</th>\n",
       "    </tr>\n",
       "    <tr>\n",
       "      <th>Date</th>\n",
       "      <th></th>\n",
       "      <th></th>\n",
       "    </tr>\n",
       "  </thead>\n",
       "  <tbody>\n",
       "    <tr>\n",
       "      <th>2022-09-22</th>\n",
       "      <td>-0.007576</td>\n",
       "      <td>-0.015267</td>\n",
       "    </tr>\n",
       "    <tr>\n",
       "      <th>2022-09-21</th>\n",
       "      <td>-0.043478</td>\n",
       "      <td>-0.007576</td>\n",
       "    </tr>\n",
       "    <tr>\n",
       "      <th>2022-09-20</th>\n",
       "      <td>-0.014286</td>\n",
       "      <td>-0.043478</td>\n",
       "    </tr>\n",
       "    <tr>\n",
       "      <th>2022-09-19</th>\n",
       "      <td>0.044776</td>\n",
       "      <td>-0.014286</td>\n",
       "    </tr>\n",
       "    <tr>\n",
       "      <th>2022-09-18</th>\n",
       "      <td>0.000000</td>\n",
       "      <td>0.000000</td>\n",
       "    </tr>\n",
       "  </tbody>\n",
       "</table>\n",
       "</div>"
      ],
      "text/plain": [
       "            Return of Ford on day t, %  Return of Ford on day t+1, %\n",
       "Date                                                                \n",
       "2022-09-22                   -0.007576                     -0.015267\n",
       "2022-09-21                   -0.043478                     -0.007576\n",
       "2022-09-20                   -0.014286                     -0.043478\n",
       "2022-09-19                    0.044776                     -0.014286\n",
       "2022-09-18                    0.000000                      0.000000"
      ]
     },
     "execution_count": 5,
     "metadata": {},
     "output_type": "execute_result"
    }
   ],
   "source": [
    "#resample based on month, replace null values with value from the previous row, compute percentage change\n",
    "d_ret_tesla = df_tesla.resample('D').ffill().pct_change() \n",
    "d_ret_tesla = d_ret_tesla.dropna(axis=0) # get rid of NaN rows\n",
    "d_ret_tesla = d_ret_tesla.sort_index(ascending=False)\n",
    "d_ret_tesla.rename(columns = {'Price of S&P 500': 'Returns of S&P 500', 'Price of Tesla': 'Returns of Tesla'}, inplace = True)\n",
    "\n",
    "d_ret_ford = df_ford.resample('D').ffill().pct_change() \n",
    "d_ret_ford = d_ret_ford.dropna(axis=0) # get rid of NaN rows\n",
    "d_ret_ford = d_ret_ford.sort_index(ascending=False)\n",
    "d_ret_ford.rename(columns = {'Price of S&P 500': 'Returns of S&P 500', 'Price of Ford': 'Returns of Ford'}, inplace = True)\n",
    "\n",
    "d_ret_tesla.head()\n",
    "d_ret_ford.head()"
   ]
  },
  {
   "cell_type": "markdown",
   "metadata": {},
   "source": [
    "### OLS Regression for ..."
   ]
  },
  {
   "cell_type": "code",
   "execution_count": 6,
   "metadata": {
    "scrolled": true
   },
   "outputs": [],
   "source": [
    "X_tesla = d_ret_tesla['Return of Tesla on day t, %'] # independant variable\n",
    "y_tesla = d_ret_tesla['Return of Tesla on day t+1, %'] # dependant variable\n",
    "X_sm_tesla = sm.add_constant(X_tesla) # OLS requires the input to have a column of ones\n",
    "\n",
    "X_ford = d_ret_ford['Return of Ford on day t, %'] # independant variable\n",
    "y_ford = d_ret_ford['Return of Ford on day t+1, %'] # dependant variable\n",
    "X_sm_ford = sm.add_constant(X_ford) # OLS requires the input to have a column of ones"
   ]
  },
  {
   "cell_type": "code",
   "execution_count": 7,
   "metadata": {},
   "outputs": [],
   "source": [
    "model_tesla = sm.OLS(y_tesla, X_sm_tesla)\n",
    "model_ford = sm.OLS(y_ford, X_sm_ford)"
   ]
  },
  {
   "cell_type": "code",
   "execution_count": 8,
   "metadata": {},
   "outputs": [],
   "source": [
    "results_tesla = model_tesla.fit()\n",
    "results_ford = model_ford.fit()"
   ]
  },
  {
   "cell_type": "code",
   "execution_count": 9,
   "metadata": {
    "scrolled": false
   },
   "outputs": [
    {
     "data": {
      "text/html": [
       "<table class=\"simpletable\">\n",
       "<caption>OLS Regression Results</caption>\n",
       "<tr>\n",
       "  <th>Dep. Variable:</th>    <td>Return of Tesla on day t+1, %</td> <th>  R-squared:         </th> <td>   0.002</td>\n",
       "</tr>\n",
       "<tr>\n",
       "  <th>Model:</th>                         <td>OLS</td>              <th>  Adj. R-squared:    </th> <td>   0.001</td>\n",
       "</tr>\n",
       "<tr>\n",
       "  <th>Method:</th>                   <td>Least Squares</td>         <th>  F-statistic:       </th> <td>   1.388</td>\n",
       "</tr>\n",
       "<tr>\n",
       "  <th>Date:</th>                   <td>Tue, 27 Sep 2022</td>        <th>  Prob (F-statistic):</th>  <td> 0.239</td> \n",
       "</tr>\n",
       "<tr>\n",
       "  <th>Time:</th>                       <td>12:11:49</td>            <th>  Log-Likelihood:    </th> <td>  1493.2</td>\n",
       "</tr>\n",
       "<tr>\n",
       "  <th>No. Observations:</th>            <td>   727</td>             <th>  AIC:               </th> <td>  -2982.</td>\n",
       "</tr>\n",
       "<tr>\n",
       "  <th>Df Residuals:</th>                <td>   725</td>             <th>  BIC:               </th> <td>  -2973.</td>\n",
       "</tr>\n",
       "<tr>\n",
       "  <th>Df Model:</th>                    <td>     1</td>             <th>                     </th>     <td> </td>   \n",
       "</tr>\n",
       "<tr>\n",
       "  <th>Covariance Type:</th>            <td>nonrobust</td>           <th>                     </th>     <td> </td>   \n",
       "</tr>\n",
       "</table>\n",
       "<table class=\"simpletable\">\n",
       "<tr>\n",
       "               <td></td>                  <th>coef</th>     <th>std err</th>      <th>t</th>      <th>P>|t|</th>  <th>[0.025</th>    <th>0.975]</th>  \n",
       "</tr>\n",
       "<tr>\n",
       "  <th>const</th>                       <td>    0.0015</td> <td>    0.001</td> <td>    1.277</td> <td> 0.202</td> <td>   -0.001</td> <td>    0.004</td>\n",
       "</tr>\n",
       "<tr>\n",
       "  <th>Return of Tesla on day t, %</th> <td>   -0.0437</td> <td>    0.037</td> <td>   -1.178</td> <td> 0.239</td> <td>   -0.117</td> <td>    0.029</td>\n",
       "</tr>\n",
       "</table>\n",
       "<table class=\"simpletable\">\n",
       "<tr>\n",
       "  <th>Omnibus:</th>       <td>90.179</td> <th>  Durbin-Watson:     </th> <td>   1.962</td> \n",
       "</tr>\n",
       "<tr>\n",
       "  <th>Prob(Omnibus):</th> <td> 0.000</td> <th>  Jarque-Bera (JB):  </th> <td> 546.423</td> \n",
       "</tr>\n",
       "<tr>\n",
       "  <th>Skew:</th>          <td> 0.348</td> <th>  Prob(JB):          </th> <td>2.22e-119</td>\n",
       "</tr>\n",
       "<tr>\n",
       "  <th>Kurtosis:</th>      <td> 7.190</td> <th>  Cond. No.          </th> <td>    32.2</td> \n",
       "</tr>\n",
       "</table><br/><br/>Notes:<br/>[1] Standard Errors assume that the covariance matrix of the errors is correctly specified."
      ],
      "text/plain": [
       "<class 'statsmodels.iolib.summary.Summary'>\n",
       "\"\"\"\n",
       "                                  OLS Regression Results                                 \n",
       "=========================================================================================\n",
       "Dep. Variable:     Return of Tesla on day t+1, %   R-squared:                       0.002\n",
       "Model:                                       OLS   Adj. R-squared:                  0.001\n",
       "Method:                            Least Squares   F-statistic:                     1.388\n",
       "Date:                           Tue, 27 Sep 2022   Prob (F-statistic):              0.239\n",
       "Time:                                   12:11:49   Log-Likelihood:                 1493.2\n",
       "No. Observations:                            727   AIC:                            -2982.\n",
       "Df Residuals:                                725   BIC:                            -2973.\n",
       "Df Model:                                      1                                         \n",
       "Covariance Type:                       nonrobust                                         \n",
       "===============================================================================================\n",
       "                                  coef    std err          t      P>|t|      [0.025      0.975]\n",
       "-----------------------------------------------------------------------------------------------\n",
       "const                           0.0015      0.001      1.277      0.202      -0.001       0.004\n",
       "Return of Tesla on day t, %    -0.0437      0.037     -1.178      0.239      -0.117       0.029\n",
       "==============================================================================\n",
       "Omnibus:                       90.179   Durbin-Watson:                   1.962\n",
       "Prob(Omnibus):                  0.000   Jarque-Bera (JB):              546.423\n",
       "Skew:                           0.348   Prob(JB):                    2.22e-119\n",
       "Kurtosis:                       7.190   Cond. No.                         32.2\n",
       "==============================================================================\n",
       "\n",
       "Notes:\n",
       "[1] Standard Errors assume that the covariance matrix of the errors is correctly specified.\n",
       "\"\"\""
      ]
     },
     "execution_count": 9,
     "metadata": {},
     "output_type": "execute_result"
    },
    {
     "data": {
      "text/html": [
       "<table class=\"simpletable\">\n",
       "<caption>OLS Regression Results</caption>\n",
       "<tr>\n",
       "  <th>Dep. Variable:</th>    <td>Return of Ford on day t+1, %</td> <th>  R-squared:         </th> <td>   0.042</td>\n",
       "</tr>\n",
       "<tr>\n",
       "  <th>Model:</th>                         <td>OLS</td>             <th>  Adj. R-squared:    </th> <td>   0.041</td>\n",
       "</tr>\n",
       "<tr>\n",
       "  <th>Method:</th>                   <td>Least Squares</td>        <th>  F-statistic:       </th> <td>   31.84</td>\n",
       "</tr>\n",
       "<tr>\n",
       "  <th>Date:</th>                   <td>Tue, 27 Sep 2022</td>       <th>  Prob (F-statistic):</th> <td>2.40e-08</td>\n",
       "</tr>\n",
       "<tr>\n",
       "  <th>Time:</th>                       <td>12:11:49</td>           <th>  Log-Likelihood:    </th> <td>  1294.8</td>\n",
       "</tr>\n",
       "<tr>\n",
       "  <th>No. Observations:</th>            <td>   727</td>            <th>  AIC:               </th> <td>  -2586.</td>\n",
       "</tr>\n",
       "<tr>\n",
       "  <th>Df Residuals:</th>                <td>   725</td>            <th>  BIC:               </th> <td>  -2576.</td>\n",
       "</tr>\n",
       "<tr>\n",
       "  <th>Df Model:</th>                    <td>     1</td>            <th>                     </th>     <td> </td>   \n",
       "</tr>\n",
       "<tr>\n",
       "  <th>Covariance Type:</th>            <td>nonrobust</td>          <th>                     </th>     <td> </td>   \n",
       "</tr>\n",
       "</table>\n",
       "<table class=\"simpletable\">\n",
       "<tr>\n",
       "               <td></td>                 <th>coef</th>     <th>std err</th>      <th>t</th>      <th>P>|t|</th>  <th>[0.025</th>    <th>0.975]</th>  \n",
       "</tr>\n",
       "<tr>\n",
       "  <th>const</th>                      <td>    0.0008</td> <td>    0.002</td> <td>    0.548</td> <td> 0.584</td> <td>   -0.002</td> <td>    0.004</td>\n",
       "</tr>\n",
       "<tr>\n",
       "  <th>Return of Ford on day t, %</th> <td>   -0.2051</td> <td>    0.036</td> <td>   -5.643</td> <td> 0.000</td> <td>   -0.277</td> <td>   -0.134</td>\n",
       "</tr>\n",
       "</table>\n",
       "<table class=\"simpletable\">\n",
       "<tr>\n",
       "  <th>Omnibus:</th>       <td>574.148</td> <th>  Durbin-Watson:     </th> <td>   2.017</td> \n",
       "</tr>\n",
       "<tr>\n",
       "  <th>Prob(Omnibus):</th> <td> 0.000</td>  <th>  Jarque-Bera (JB):  </th> <td>28950.880</td>\n",
       "</tr>\n",
       "<tr>\n",
       "  <th>Skew:</th>          <td> 3.068</td>  <th>  Prob(JB):          </th> <td>    0.00</td> \n",
       "</tr>\n",
       "<tr>\n",
       "  <th>Kurtosis:</th>      <td>33.300</td>  <th>  Cond. No.          </th> <td>    24.0</td> \n",
       "</tr>\n",
       "</table><br/><br/>Notes:<br/>[1] Standard Errors assume that the covariance matrix of the errors is correctly specified."
      ],
      "text/plain": [
       "<class 'statsmodels.iolib.summary.Summary'>\n",
       "\"\"\"\n",
       "                                 OLS Regression Results                                 \n",
       "========================================================================================\n",
       "Dep. Variable:     Return of Ford on day t+1, %   R-squared:                       0.042\n",
       "Model:                                      OLS   Adj. R-squared:                  0.041\n",
       "Method:                           Least Squares   F-statistic:                     31.84\n",
       "Date:                          Tue, 27 Sep 2022   Prob (F-statistic):           2.40e-08\n",
       "Time:                                  12:11:49   Log-Likelihood:                 1294.8\n",
       "No. Observations:                           727   AIC:                            -2586.\n",
       "Df Residuals:                               725   BIC:                            -2576.\n",
       "Df Model:                                     1                                         \n",
       "Covariance Type:                      nonrobust                                         \n",
       "==============================================================================================\n",
       "                                 coef    std err          t      P>|t|      [0.025      0.975]\n",
       "----------------------------------------------------------------------------------------------\n",
       "const                          0.0008      0.002      0.548      0.584      -0.002       0.004\n",
       "Return of Ford on day t, %    -0.2051      0.036     -5.643      0.000      -0.277      -0.134\n",
       "==============================================================================\n",
       "Omnibus:                      574.148   Durbin-Watson:                   2.017\n",
       "Prob(Omnibus):                  0.000   Jarque-Bera (JB):            28950.880\n",
       "Skew:                           3.068   Prob(JB):                         0.00\n",
       "Kurtosis:                      33.300   Cond. No.                         24.0\n",
       "==============================================================================\n",
       "\n",
       "Notes:\n",
       "[1] Standard Errors assume that the covariance matrix of the errors is correctly specified.\n",
       "\"\"\""
      ]
     },
     "execution_count": 9,
     "metadata": {},
     "output_type": "execute_result"
    }
   ],
   "source": [
    "results_tesla.summary()\n",
    "results_ford.summary()"
   ]
  },
  {
   "cell_type": "markdown",
   "metadata": {},
   "source": [
    "### Visualization of scatter plot"
   ]
  },
  {
   "cell_type": "code",
   "execution_count": 10,
   "metadata": {
    "scrolled": true
   },
   "outputs": [],
   "source": [
    "import seaborn as sns\n",
    "from matplotlib import pyplot as plt"
   ]
  },
  {
   "cell_type": "code",
   "execution_count": 11,
   "metadata": {
    "scrolled": true
   },
   "outputs": [
    {
     "data": {
      "image/png": "[encoded data removed]",
      "text/plain": [
       "<Figure size 1296x432 with 2 Axes>"
      ]
     },
     "metadata": {
      "needs_background": "light"
     },
     "output_type": "display_data"
    }
   ],
   "source": [
    "fig = plt.figure(figsize=(18,6))\n",
    "\n",
    "plt.subplot(1,2,1)\n",
    "sns.scatterplot(x='Return of Tesla on day t, %', y='Return of Tesla on day t+1, %', data=d_ret_tesla, ci = None)\n",
    "\n",
    "plt.subplot(1,2,2)\n",
    "sns.scatterplot(x='Return of Ford on day t, %', y='Return of Ford on day t+1, %', data=d_ret_ford, ci = None)\n",
    "\n",
    "plt.show();"
   ]
  },
  {
   "cell_type": "code",
   "execution_count": 12,
   "metadata": {},
   "outputs": [],
   "source": [
    "# Remove outlier\n",
    "d_ret_ford = d_ret_ford[d_ret_ford['Return of Ford on day t, %'] < 0.45]\n",
    "d_ret_ford = d_ret_ford[d_ret_ford['Return of Ford on day t+1, %'] < 0.45]"
   ]
  },
  {
   "cell_type": "code",
   "execution_count": 13,
   "metadata": {},
   "outputs": [
    {
     "data": {
      "text/html": [
       "<table class=\"simpletable\">\n",
       "<caption>OLS Regression Results</caption>\n",
       "<tr>\n",
       "  <th>Dep. Variable:</th>    <td>Return of Ford on day t+1, %</td> <th>  R-squared:         </th> <td>   0.021</td>\n",
       "</tr>\n",
       "<tr>\n",
       "  <th>Model:</th>                         <td>OLS</td>             <th>  Adj. R-squared:    </th> <td>   0.019</td>\n",
       "</tr>\n",
       "<tr>\n",
       "  <th>Method:</th>                   <td>Least Squares</td>        <th>  F-statistic:       </th> <td>   15.24</td>\n",
       "</tr>\n",
       "<tr>\n",
       "  <th>Date:</th>                   <td>Tue, 27 Sep 2022</td>       <th>  Prob (F-statistic):</th> <td>0.000104</td>\n",
       "</tr>\n",
       "<tr>\n",
       "  <th>Time:</th>                       <td>12:11:50</td>           <th>  Log-Likelihood:    </th> <td>  1368.5</td>\n",
       "</tr>\n",
       "<tr>\n",
       "  <th>No. Observations:</th>            <td>   725</td>            <th>  AIC:               </th> <td>  -2733.</td>\n",
       "</tr>\n",
       "<tr>\n",
       "  <th>Df Residuals:</th>                <td>   723</td>            <th>  BIC:               </th> <td>  -2724.</td>\n",
       "</tr>\n",
       "<tr>\n",
       "  <th>Df Model:</th>                    <td>     1</td>            <th>                     </th>     <td> </td>   \n",
       "</tr>\n",
       "<tr>\n",
       "  <th>Covariance Type:</th>            <td>nonrobust</td>          <th>                     </th>     <td> </td>   \n",
       "</tr>\n",
       "</table>\n",
       "<table class=\"simpletable\">\n",
       "<tr>\n",
       "               <td></td>                 <th>coef</th>     <th>std err</th>      <th>t</th>      <th>P>|t|</th>  <th>[0.025</th>    <th>0.975]</th>  \n",
       "</tr>\n",
       "<tr>\n",
       "  <th>const</th>                      <td>    0.0003</td> <td>    0.001</td> <td>    0.187</td> <td> 0.852</td> <td>   -0.002</td> <td>    0.003</td>\n",
       "</tr>\n",
       "<tr>\n",
       "  <th>Return of Ford on day t, %</th> <td>   -0.1421</td> <td>    0.036</td> <td>   -3.903</td> <td> 0.000</td> <td>   -0.214</td> <td>   -0.071</td>\n",
       "</tr>\n",
       "</table>\n",
       "<table class=\"simpletable\">\n",
       "<tr>\n",
       "  <th>Omnibus:</th>       <td>251.151</td> <th>  Durbin-Watson:     </th> <td>   2.048</td>\n",
       "</tr>\n",
       "<tr>\n",
       "  <th>Prob(Omnibus):</th> <td> 0.000</td>  <th>  Jarque-Bera (JB):  </th> <td>2547.907</td>\n",
       "</tr>\n",
       "<tr>\n",
       "  <th>Skew:</th>          <td> 1.253</td>  <th>  Prob(JB):          </th> <td>    0.00</td>\n",
       "</tr>\n",
       "<tr>\n",
       "  <th>Kurtosis:</th>      <td>11.835</td>  <th>  Cond. No.          </th> <td>    26.7</td>\n",
       "</tr>\n",
       "</table><br/><br/>Notes:<br/>[1] Standard Errors assume that the covariance matrix of the errors is correctly specified."
      ],
      "text/plain": [
       "<class 'statsmodels.iolib.summary.Summary'>\n",
       "\"\"\"\n",
       "                                 OLS Regression Results                                 \n",
       "========================================================================================\n",
       "Dep. Variable:     Return of Ford on day t+1, %   R-squared:                       0.021\n",
       "Model:                                      OLS   Adj. R-squared:                  0.019\n",
       "Method:                           Least Squares   F-statistic:                     15.24\n",
       "Date:                          Tue, 27 Sep 2022   Prob (F-statistic):           0.000104\n",
       "Time:                                  12:11:50   Log-Likelihood:                 1368.5\n",
       "No. Observations:                           725   AIC:                            -2733.\n",
       "Df Residuals:                               723   BIC:                            -2724.\n",
       "Df Model:                                     1                                         \n",
       "Covariance Type:                      nonrobust                                         \n",
       "==============================================================================================\n",
       "                                 coef    std err          t      P>|t|      [0.025      0.975]\n",
       "----------------------------------------------------------------------------------------------\n",
       "const                          0.0003      0.001      0.187      0.852      -0.002       0.003\n",
       "Return of Ford on day t, %    -0.1421      0.036     -3.903      0.000      -0.214      -0.071\n",
       "==============================================================================\n",
       "Omnibus:                      251.151   Durbin-Watson:                   2.048\n",
       "Prob(Omnibus):                  0.000   Jarque-Bera (JB):             2547.907\n",
       "Skew:                           1.253   Prob(JB):                         0.00\n",
       "Kurtosis:                      11.835   Cond. No.                         26.7\n",
       "==============================================================================\n",
       "\n",
       "Notes:\n",
       "[1] Standard Errors assume that the covariance matrix of the errors is correctly specified.\n",
       "\"\"\""
      ]
     },
     "execution_count": 13,
     "metadata": {},
     "output_type": "execute_result"
    }
   ],
   "source": [
    "X_ford = d_ret_ford['Return of Ford on day t, %'] # independant variable\n",
    "y_ford = d_ret_ford['Return of Ford on day t+1, %'] # dependant variable\n",
    "X_sm_ford = sm.add_constant(X_ford) # OLS requires the input to have a column of ones\n",
    "model_ford = sm.OLS(y_ford, X_sm_ford)\n",
    "results_ford = model_ford.fit()\n",
    "results_ford.summary()"
   ]
  },
  {
   "cell_type": "code",
   "execution_count": 14,
   "metadata": {},
   "outputs": [
    {
     "data": {
      "text/plain": [
       "<AxesSubplot:xlabel='Return of Ford on day t, %', ylabel='Return of Ford on day t+1, %'>"
      ]
     },
     "execution_count": 14,
     "metadata": {},
     "output_type": "execute_result"
    },
    {
     "data": {
      "image/png": "[encoded data removed]",
      "text/plain": [
       "<Figure size 432x288 with 1 Axes>"
      ]
     },
     "metadata": {
      "needs_background": "light"
     },
     "output_type": "display_data"
    }
   ],
   "source": [
    "sns.scatterplot(x='Return of Ford on day t, %', y='Return of Ford on day t+1, %', data=d_ret_ford, ci = None)"
   ]
  },
  {
   "cell_type": "code",
   "execution_count": null,
   "metadata": {},
   "outputs": [],
   "source": []
  }
 ],
 "metadata": {
  "kernelspec": {
   "display_name": "Python 3 (ipykernel)",
   "language": "python",
   "name": "python3"
  },
  "language_info": {
   "codemirror_mode": {
    "name": "ipython",
    "version": 3
   },
   "file_extension": ".py",
   "mimetype": "text/x-python",
   "name": "python",
   "nbconvert_exporter": "python",
   "pygments_lexer": "ipython3",
   "version": "3.9.12"
  }
 },
 "nbformat": 4,
 "nbformat_minor": 4
}
